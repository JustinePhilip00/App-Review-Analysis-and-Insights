{
 "cells": [
  {
   "cell_type": "markdown",
   "metadata": {},
   "source": [
    "Note: Please use anaconda and visual studio to open the file inorder to get right outputs."
   ]
  },
  {
   "cell_type": "markdown",
   "metadata": {
    "id": "m9vg6Lx1WHEf"
   },
   "source": [
    "**Assigned app: Currencies: Exchange Rate Calculator**\n",
    "\n",
    "Since assigned app  doesnt (SUD) have any reviews. I am collecting the reviews from my competitor and similar apps\n",
    "\n",
    "CSV files that I created for this proejct: \n",
    "\n",
    "    1) de.salomax.currencies.csv [main csv file with SUD package name]\n",
    "\n",
    "    2) preprocessedtext.csv [For tasks 3 and 4]\n",
    "\n",
    "    3) TextblobReviews.csv [a csv file for saving all the textblob sentiment analysis]\n",
    "                                           \n",
    "    4) VaderReviews.csv [ a csv file for saving all the vader sentiment analysis ]\n",
    "Submitting a zip file of all csv files\n",
    "\n"
   ]
  },
  {
   "cell_type": "markdown",
   "metadata": {
    "id": "WBzlUYSQ5yB-"
   },
   "source": [
    "## **TASK 1:GATHERING REVIEWS**  \n"
   ]
  },
  {
   "cell_type": "code",
   "execution_count": 1,
   "metadata": {
    "colab": {
     "base_uri": "https://localhost:8080/"
    },
    "id": "8CZPXY0_BTgz",
    "outputId": "530640cd-f09d-41a8-c1e3-267023d22328"
   },
   "outputs": [
    {
     "name": "stdout",
     "output_type": "stream",
     "text": [
      "Requirement already satisfied: google-play-scraper in c:\\users\\justi\\anaconda3\\lib\\site-packages (1.2.6)Note: you may need to restart the kernel to use updated packages.\n",
      "\n"
     ]
    }
   ],
   "source": [
    "pip install google-play-scraper"
   ]
  },
  {
   "cell_type": "code",
   "execution_count": 2,
   "metadata": {
    "id": "6Zb7_yYnC3Jo"
   },
   "outputs": [],
   "source": [
    "from google_play_scraper import app\n",
    "import pandas as pd\n",
    "import numpy as np"
   ]
  },
  {
   "cell_type": "code",
   "execution_count": 3,
   "metadata": {
    "colab": {
     "base_uri": "https://localhost:8080/",
     "height": 423
    },
    "id": "qtgQcpOOdJv0",
    "outputId": "d455e289-52da-4e17-af6a-d0916ec369d8"
   },
   "outputs": [
    {
     "data": {
      "text/html": [
       "<div>\n",
       "<style scoped>\n",
       "    .dataframe tbody tr th:only-of-type {\n",
       "        vertical-align: middle;\n",
       "    }\n",
       "\n",
       "    .dataframe tbody tr th {\n",
       "        vertical-align: top;\n",
       "    }\n",
       "\n",
       "    .dataframe thead th {\n",
       "        text-align: right;\n",
       "    }\n",
       "</style>\n",
       "<table border=\"1\" class=\"dataframe\">\n",
       "  <thead>\n",
       "    <tr style=\"text-align: right;\">\n",
       "      <th></th>\n",
       "      <th>Package Name</th>\n",
       "      <th>Reviewer Name</th>\n",
       "      <th>Review</th>\n",
       "      <th>Rating</th>\n",
       "    </tr>\n",
       "  </thead>\n",
       "  <tbody>\n",
       "    <tr>\n",
       "      <th>0</th>\n",
       "      <td>com.xe.currency</td>\n",
       "      <td>Jackson Yeo</td>\n",
       "      <td>I been using this app very long.keep it up the...</td>\n",
       "      <td>5</td>\n",
       "    </tr>\n",
       "    <tr>\n",
       "      <th>1</th>\n",
       "      <td>com.xe.currency</td>\n",
       "      <td>JOGI K VARGHESE</td>\n",
       "      <td>good</td>\n",
       "      <td>5</td>\n",
       "    </tr>\n",
       "    <tr>\n",
       "      <th>2</th>\n",
       "      <td>com.xe.currency</td>\n",
       "      <td>s alwhibi</td>\n",
       "      <td>I like it it's my favorite App</td>\n",
       "      <td>5</td>\n",
       "    </tr>\n",
       "    <tr>\n",
       "      <th>3</th>\n",
       "      <td>com.xe.currency</td>\n",
       "      <td>James Phiri</td>\n",
       "      <td>I like the app</td>\n",
       "      <td>5</td>\n",
       "    </tr>\n",
       "    <tr>\n",
       "      <th>4</th>\n",
       "      <td>com.xe.currency</td>\n",
       "      <td>Sohail Khan</td>\n",
       "      <td>easy to use great i recommend thanks.</td>\n",
       "      <td>5</td>\n",
       "    </tr>\n",
       "    <tr>\n",
       "      <th>...</th>\n",
       "      <td>...</td>\n",
       "      <td>...</td>\n",
       "      <td>...</td>\n",
       "      <td>...</td>\n",
       "    </tr>\n",
       "    <tr>\n",
       "      <th>993</th>\n",
       "      <td>com.mezhevikin.converter</td>\n",
       "      <td>Rowan Van Der Merwe</td>\n",
       "      <td>Good</td>\n",
       "      <td>5</td>\n",
       "    </tr>\n",
       "    <tr>\n",
       "      <th>994</th>\n",
       "      <td>com.mezhevikin.converter</td>\n",
       "      <td>Ayan</td>\n",
       "      <td>Very very best app</td>\n",
       "      <td>5</td>\n",
       "    </tr>\n",
       "    <tr>\n",
       "      <th>995</th>\n",
       "      <td>com.mezhevikin.converter</td>\n",
       "      <td>Victor Sopulu</td>\n",
       "      <td>I think this app is a kinda cool</td>\n",
       "      <td>5</td>\n",
       "    </tr>\n",
       "    <tr>\n",
       "      <th>996</th>\n",
       "      <td>com.mezhevikin.converter</td>\n",
       "      <td>Woyinperedei Pinaowei</td>\n",
       "      <td>very good</td>\n",
       "      <td>5</td>\n",
       "    </tr>\n",
       "    <tr>\n",
       "      <th>997</th>\n",
       "      <td>com.mezhevikin.converter</td>\n",
       "      <td>Rosalene Jacobs</td>\n",
       "      <td>Luv playing</td>\n",
       "      <td>4</td>\n",
       "    </tr>\n",
       "  </tbody>\n",
       "</table>\n",
       "<p>998 rows × 4 columns</p>\n",
       "</div>"
      ],
      "text/plain": [
       "                 Package Name          Reviewer Name  \\\n",
       "0             com.xe.currency            Jackson Yeo   \n",
       "1             com.xe.currency        JOGI K VARGHESE   \n",
       "2             com.xe.currency              s alwhibi   \n",
       "3             com.xe.currency            James Phiri   \n",
       "4             com.xe.currency            Sohail Khan   \n",
       "..                        ...                    ...   \n",
       "993  com.mezhevikin.converter    Rowan Van Der Merwe   \n",
       "994  com.mezhevikin.converter                   Ayan   \n",
       "995  com.mezhevikin.converter          Victor Sopulu   \n",
       "996  com.mezhevikin.converter  Woyinperedei Pinaowei   \n",
       "997  com.mezhevikin.converter        Rosalene Jacobs   \n",
       "\n",
       "                                                Review Rating  \n",
       "0    I been using this app very long.keep it up the...      5  \n",
       "1                                                 good      5  \n",
       "2                       I like it it's my favorite App      5  \n",
       "3                                       I like the app      5  \n",
       "4                easy to use great i recommend thanks.      5  \n",
       "..                                                 ...    ...  \n",
       "993                                               Good      5  \n",
       "994                                 Very very best app      5  \n",
       "995                   I think this app is a kinda cool      5  \n",
       "996                                          very good      5  \n",
       "997                                        Luv playing      4  \n",
       "\n",
       "[998 rows x 4 columns]"
      ]
     },
     "metadata": {},
     "output_type": "display_data"
    }
   ],
   "source": [
    "import csv\n",
    "from google_play_scraper import Sort, reviews_all\n",
    "\n",
    "with open('de.salomax.currencies.csv','w',newline='') as file: # creating the file with SUD's package name in write mode\n",
    "  write = csv.writer(file) # variable initialization to write to the file\n",
    "  header = [\"Package name\", \"Reviewer name\", \"Review\", \"Rating\"]\n",
    "  write.writerow(header)\n",
    "\n",
    "  #Scraping reviews of \"Xe Converter and Money transfer\" (Competitior)\n",
    "  xe_converter = reviews_all(\n",
    "    'com.xe.currency',\n",
    "    sleep_milliseconds=0, # defaults to 0\n",
    "    lang='en', # defaults to 'en'\n",
    "    country='us', # defaults to 'us'\n",
    "    sort=Sort.NEWEST, # defaults to Sort.MOST_RELEVANT\n",
    ")\n",
    "  df_xe = pd.DataFrame(np.array(xe_converter),columns=['review'])\n",
    "  df_xe = df_xe.join(pd.DataFrame(df_xe.pop('review').tolist()))\n",
    "  df_xe_parsed= df_xe[['userName','content','score']]\n",
    "  df_xe_parsed.columns=['Reviewer Name','Review','Rating']\n",
    "  df_xe_parsed.insert(0,\"Package Name\",\"com.xe.currency\")\n",
    "  df_xe_parsed.to_csv('de.salomax.currencies.csv', mode='a', index=False, header=True)\n",
    "\n",
    "\n",
    "   #Scraping reviews of \"Currency Converter – Wise payments Ltd.\" (Competitior)\n",
    "  wise_converter = reviews_all(\n",
    "    'com.wise.converter',\n",
    "    sleep_milliseconds=0, # defaults to 0\n",
    "    lang='en', # defaults to 'en'\n",
    "    country='us', # defaults to 'us'\n",
    "    sort=Sort.NEWEST, # defaults to Sort.MOST_RELEVANT\n",
    ")\n",
    "  df_wise = pd.DataFrame(np.array(wise_converter),columns=['review'])\n",
    "  df_wise = df_wise.join(pd.DataFrame(df_wise.pop('review').tolist()))\n",
    "  df_wise_parsed= df_wise[['userName','content','score']]\n",
    "  df_wise_parsed.columns=['Reviewer Name','Review','Rating']\n",
    "  df_wise_parsed.insert(0,\"Package Name\",\"com.wise.converter\")\n",
    "  df_wise_parsed.to_csv('de.salomax.currencies.csv', mode='a', index=False, header=True)\n",
    "\n",
    "##########################################################################################################################################\n",
    "\n",
    " #Scraping reviews of \"Currency Converter Plus\" (Similar)\n",
    "  converter_plus = reviews_all(\n",
    "    'com.digitalchemy.currencyconverter',\n",
    "    sleep_milliseconds=0, # defaults to 0\n",
    "    lang='en', # defaults to 'en'\n",
    "    country='us', # defaults to 'us'\n",
    "    sort=Sort.NEWEST, # defaults to Sort.MOST_RELEVANT\n",
    ")\n",
    "  df_converter_plus = pd.DataFrame(np.array(converter_plus),columns=['review'])\n",
    "  df_converter_plus = df_converter_plus.join(pd.DataFrame(df_converter_plus.pop('review').tolist()))\n",
    "  df_converter_plus_parsed= df_converter_plus[['userName','content','score']]\n",
    "  df_converter_plus_parsed.columns=['Reviewer Name','Review','Rating']\n",
    "  df_converter_plus_parsed.insert(0,\"Package Name\",\"com.digitalchemy.currencyconverter\")\n",
    "  df_converter_plus_parsed.to_csv('de.salomax.currencies.csv', mode='a', index=False, header=True)\n",
    "\n",
    "#Scraping reviews of \"Currency Converter offline\" (Similar)\n",
    "  converter_offline = reviews_all(\n",
    "    'com.mezhevikin.converter',\n",
    "    sleep_milliseconds=0, # defaults to 0\n",
    "    lang='en', # defaults to 'en'\n",
    "    country='us', # defaults to 'us'\n",
    "    sort=Sort.NEWEST, # defaults to Sort.MOST_RELEVANT\n",
    ")\n",
    "  df_converter_offline = pd.DataFrame(np.array(converter_offline),columns=['review'])\n",
    "  df_converter_offline = df_converter_offline.join(pd.DataFrame(df_converter_offline.pop('review').tolist()))\n",
    "  df_converter_offline_parsed= df_converter_offline[['userName','content','score']]\n",
    "  df_converter_offline_parsed.columns=['Reviewer Name','Review','Rating']\n",
    "  df_converter_offline_parsed.insert(0,\"Package Name\",\"com.mezhevikin.converter\")\n",
    "  df_converter_offline_parsed.to_csv('de.salomax.currencies.csv', mode='a', index=False, header=True)\n",
    "\n",
    "\n",
    "\n",
    "  updated_csv_file= pd.read_csv(\"de.salomax.currencies.csv\")\n",
    "  display(updated_csv_file)"
   ]
  },
  {
   "cell_type": "markdown",
   "metadata": {
    "id": "v1MBPPY6hI6f"
   },
   "source": [
    "## **TASK 2: PREPROCESS YOUR TEXT**"
   ]
  },
  {
   "cell_type": "code",
   "execution_count": 4,
   "metadata": {
    "colab": {
     "base_uri": "https://localhost:8080/"
    },
    "id": "vx4po08IFfby",
    "outputId": "45725813-a07b-4367-dc43-9b58555812dd"
   },
   "outputs": [
    {
     "name": "stdout",
     "output_type": "stream",
     "text": [
      "Requirement already satisfied: num2words in c:\\users\\justi\\anaconda3\\lib\\site-packages (0.5.13)Note: you may need to restart the kernel to use updated packages.\n",
      "\n",
      "Requirement already satisfied: docopt>=0.6.2 in c:\\users\\justi\\anaconda3\\lib\\site-packages (from num2words) (0.6.2)\n"
     ]
    }
   ],
   "source": [
    "pip install num2words\n"
   ]
  },
  {
   "cell_type": "code",
   "execution_count": 5,
   "metadata": {
    "colab": {
     "base_uri": "https://localhost:8080/"
    },
    "id": "xiEJhH8thRGd",
    "outputId": "33b1a1a9-48c1-4411-baa6-fcd1b6b4eefa"
   },
   "outputs": [
    {
     "name": "stderr",
     "output_type": "stream",
     "text": [
      "[nltk_data] Downloading package punkt to\n",
      "[nltk_data]     C:\\Users\\justi\\AppData\\Roaming\\nltk_data...\n",
      "[nltk_data]   Package punkt is already up-to-date!\n",
      "[nltk_data] Downloading package stopwords to\n",
      "[nltk_data]     C:\\Users\\justi\\AppData\\Roaming\\nltk_data...\n",
      "[nltk_data]   Package stopwords is already up-to-date!\n",
      "[nltk_data] Downloading package wordnet to\n",
      "[nltk_data]     C:\\Users\\justi\\AppData\\Roaming\\nltk_data...\n",
      "[nltk_data]   Package wordnet is already up-to-date!\n"
     ]
    },
    {
     "name": "stdout",
     "output_type": "stream",
     "text": [
      "1. good\n",
      "2. brilliant easy use best\n",
      "3. good app far\n",
      "4. great exchange ratesalways\n",
      "5. nice\n",
      "6. set alarm desirable rate\n",
      "7. almost\n",
      "8. compelling money transfer app without transfer fee ameyzing\n",
      "9. beautiful app\n",
      "10. like app\n",
      "11. easy use update everything use stay accurate\n",
      "12. hope possibility transfer money arab country\n",
      "13. work like\n",
      "14. love app really help lot\n",
      "15. nice layout system\n"
     ]
    }
   ],
   "source": [
    "import pandas as pd\n",
    "import re\n",
    "import nltk\n",
    "nltk.download('punkt')\n",
    "nltk.download('stopwords')\n",
    "nltk.download('wordnet')\n",
    "from nltk.tokenize import word_tokenize\n",
    "from num2words import num2words\n",
    "from nltk.corpus import stopwords\n",
    "from nltk.stem import WordNetLemmatizer\n",
    "\n",
    "\n",
    "df = pd.read_csv('de.salomax.currencies.csv') #loading the csv file into the dataframe df\n",
    "with open('preprocessedtext.csv','w',newline='') as file: # creating the file in write mode\n",
    "  write = csv.writer(file) # variable initialization to write to the file\n",
    "\n",
    "lemmatizer = WordNetLemmatizer()\n",
    "stop_words = set(stopwords.words('english'))\n",
    "pre_processed_text=[]\n",
    "\n",
    "def preprocess(review):\n",
    "\n",
    "    review = re.sub(r'[\\.\\?\\!\\,\\:\\;\\\"]', '', str(review)) #removing punctuations and replacing with space\n",
    "    review = re.sub(r'[^a-zA-Z0-9\\s]', '', review) #removing special characters and emojis\n",
    "    review = ' '.join([num2words(int(word)) if word.isdigit() else word for word in review.split()]) # converting number to text\n",
    "    review = ' '.join(review.split()) #removing extra white spaces\n",
    "    review = review.lower() #converting letters to lowercases\n",
    "    words = word_tokenize(review) #converting the reviews into tokens\n",
    "    words = [word for word in words if word not in stop_words] #removing stop words\n",
    "    words = [lemmatizer.lemmatize(word) for word in words] #implementing lemmatizing\n",
    "    preprocessed_review = ' '.join(words) # joining individual words retrieved from the review into a string\n",
    "    return preprocessed_review\n",
    "\n",
    "\n",
    "preprocessed_column = df['Review'].apply(preprocess)\n",
    "df.insert(3,\"Preprocessed Review\",preprocessed_column) #Replacing the raw reviews with preprocessed reviews\n",
    "\n",
    "for i, review in enumerate(df['Preprocessed Review'].sample(15)):\n",
    "    print(f\"{i+1}. {review}\")\n",
    "df_preprocessed= df[['Package name','Reviewer name','Preprocessed Review','Rating']]\n",
    "df_preprocessed.columns=[['Package name','Reviewer name','Review','Rating']]\n",
    "df_preprocessed.to_csv('preprocessedtext.csv', mode='a', index=False, header=True) #creating a csv file for preprocessed reviews\n"
   ]
  },
  {
   "cell_type": "markdown",
   "metadata": {
    "id": "myYdTMoR71DZ"
   },
   "source": [
    "I have created a csv file for preprocessed reviews which would be used for Task 3 and Task 4\n"
   ]
  },
  {
   "cell_type": "markdown",
   "metadata": {
    "id": "KwtkAtYtUjah"
   },
   "source": [
    "## **TASK 3: SENTIMENT ANALYSIS**"
   ]
  },
  {
   "cell_type": "markdown",
   "metadata": {
    "id": "-PWW4PK1jUpD"
   },
   "source": [
    "\n",
    "**I. Use Textblob for calculating Reviews Sentiment; The output should be a table with headers in the format of <Apps package name, Review, Polarity>.**"
   ]
  },
  {
   "cell_type": "code",
   "execution_count": 6,
   "metadata": {},
   "outputs": [
    {
     "name": "stdout",
     "output_type": "stream",
     "text": [
      "Requirement already satisfied: textblob in c:\\users\\justi\\anaconda3\\lib\\site-packages (0.18.0.post0)Note: you may need to restart the kernel to use updated packages.\n",
      "\n",
      "Requirement already satisfied: nltk>=3.8 in c:\\users\\justi\\anaconda3\\lib\\site-packages (from textblob) (3.8.1)\n",
      "Requirement already satisfied: click in c:\\users\\justi\\anaconda3\\lib\\site-packages (from nltk>=3.8->textblob) (8.0.4)\n",
      "Requirement already satisfied: joblib in c:\\users\\justi\\anaconda3\\lib\\site-packages (from nltk>=3.8->textblob) (1.2.0)\n",
      "Requirement already satisfied: regex>=2021.8.3 in c:\\users\\justi\\anaconda3\\lib\\site-packages (from nltk>=3.8->textblob) (2022.7.9)\n",
      "Requirement already satisfied: tqdm in c:\\users\\justi\\anaconda3\\lib\\site-packages (from nltk>=3.8->textblob) (4.65.0)\n",
      "Requirement already satisfied: colorama in c:\\users\\justi\\anaconda3\\lib\\site-packages (from click->nltk>=3.8->textblob) (0.4.6)\n"
     ]
    }
   ],
   "source": [
    "pip install textblob"
   ]
  },
  {
   "cell_type": "code",
   "execution_count": 7,
   "metadata": {
    "colab": {
     "base_uri": "https://localhost:8080/",
     "height": 423
    },
    "id": "GHImHrNVleoh",
    "outputId": "77ac2ccc-a7da-49db-9f42-9e38b575db5c"
   },
   "outputs": [
    {
     "data": {
      "text/html": [
       "<div>\n",
       "<style scoped>\n",
       "    .dataframe tbody tr th:only-of-type {\n",
       "        vertical-align: middle;\n",
       "    }\n",
       "\n",
       "    .dataframe tbody tr th {\n",
       "        vertical-align: top;\n",
       "    }\n",
       "\n",
       "    .dataframe thead th {\n",
       "        text-align: right;\n",
       "    }\n",
       "</style>\n",
       "<table border=\"1\" class=\"dataframe\">\n",
       "  <thead>\n",
       "    <tr style=\"text-align: right;\">\n",
       "      <th></th>\n",
       "      <th>Apps Package name</th>\n",
       "      <th>Review</th>\n",
       "      <th>Polarity</th>\n",
       "    </tr>\n",
       "  </thead>\n",
       "  <tbody>\n",
       "    <tr>\n",
       "      <th>0</th>\n",
       "      <td>com.xe.currency</td>\n",
       "      <td>using app longkeep good work</td>\n",
       "      <td>0.700000</td>\n",
       "    </tr>\n",
       "    <tr>\n",
       "      <th>1</th>\n",
       "      <td>com.xe.currency</td>\n",
       "      <td>good</td>\n",
       "      <td>0.700000</td>\n",
       "    </tr>\n",
       "    <tr>\n",
       "      <th>2</th>\n",
       "      <td>com.xe.currency</td>\n",
       "      <td>like favorite app</td>\n",
       "      <td>0.500000</td>\n",
       "    </tr>\n",
       "    <tr>\n",
       "      <th>3</th>\n",
       "      <td>com.xe.currency</td>\n",
       "      <td>like app</td>\n",
       "      <td>0.000000</td>\n",
       "    </tr>\n",
       "    <tr>\n",
       "      <th>4</th>\n",
       "      <td>com.xe.currency</td>\n",
       "      <td>easy use great recommend thanks</td>\n",
       "      <td>0.477778</td>\n",
       "    </tr>\n",
       "    <tr>\n",
       "      <th>...</th>\n",
       "      <td>...</td>\n",
       "      <td>...</td>\n",
       "      <td>...</td>\n",
       "    </tr>\n",
       "    <tr>\n",
       "      <th>993</th>\n",
       "      <td>com.mezhevikin.converter</td>\n",
       "      <td>good</td>\n",
       "      <td>0.700000</td>\n",
       "    </tr>\n",
       "    <tr>\n",
       "      <th>994</th>\n",
       "      <td>com.mezhevikin.converter</td>\n",
       "      <td>best app</td>\n",
       "      <td>1.000000</td>\n",
       "    </tr>\n",
       "    <tr>\n",
       "      <th>995</th>\n",
       "      <td>com.mezhevikin.converter</td>\n",
       "      <td>think app kinda cool</td>\n",
       "      <td>0.350000</td>\n",
       "    </tr>\n",
       "    <tr>\n",
       "      <th>996</th>\n",
       "      <td>com.mezhevikin.converter</td>\n",
       "      <td>good</td>\n",
       "      <td>0.700000</td>\n",
       "    </tr>\n",
       "    <tr>\n",
       "      <th>997</th>\n",
       "      <td>com.mezhevikin.converter</td>\n",
       "      <td>luv playing</td>\n",
       "      <td>0.000000</td>\n",
       "    </tr>\n",
       "  </tbody>\n",
       "</table>\n",
       "<p>998 rows × 3 columns</p>\n",
       "</div>"
      ],
      "text/plain": [
       "            Apps Package name                           Review  Polarity\n",
       "0             com.xe.currency     using app longkeep good work  0.700000\n",
       "1             com.xe.currency                             good  0.700000\n",
       "2             com.xe.currency                like favorite app  0.500000\n",
       "3             com.xe.currency                         like app  0.000000\n",
       "4             com.xe.currency  easy use great recommend thanks  0.477778\n",
       "..                        ...                              ...       ...\n",
       "993  com.mezhevikin.converter                             good  0.700000\n",
       "994  com.mezhevikin.converter                         best app  1.000000\n",
       "995  com.mezhevikin.converter             think app kinda cool  0.350000\n",
       "996  com.mezhevikin.converter                             good  0.700000\n",
       "997  com.mezhevikin.converter                      luv playing  0.000000\n",
       "\n",
       "[998 rows x 3 columns]"
      ]
     },
     "metadata": {},
     "output_type": "display_data"
    }
   ],
   "source": [
    "from ctypes import sizeof\n",
    "from textblob import TextBlob\n",
    "import csv\n",
    "import numpy\n",
    "import pandas as pd\n",
    "\n",
    "df = pd.read_csv('preprocessedtext.csv') # Using the preprocessed reviews to do sentiment analysis\n",
    "with open('TextblobReviews.csv','w',newline='') as file: # creating the file in write mode\n",
    "    write = csv.writer(file) # variable initialization to write to the file\n",
    "df_blob=[]\n",
    "for Review in df['Review']:\n",
    "  blob=TextBlob(str(Review)) #Evaluating textblob sentiment analysis for each review\n",
    "  df_blob.append(blob.sentiment.polarity)\n",
    "\n",
    "df.insert(4,\"Polarity\",df_blob) #creating a new column for polarity in dataframe df\n",
    "df_blob= df[['Package name','Review','Polarity']]\n",
    "df_blob.columns=['Apps Package name','Review','Polarity']\n",
    "df_blob.to_csv('TextblobReviews.csv', mode='a', index=False, header=True) #creating a csv file for texblob reviews\n",
    "display(df_blob)"
   ]
  },
  {
   "cell_type": "markdown",
   "metadata": {
    "id": "igG5wzWxFG-t"
   },
   "source": [
    "\n",
    "**II. Use Vader for calculating Reviews Sentiment; The output should be a table with headers in the format of <App’s package name, Review, Polarity >.**"
   ]
  },
  {
   "cell_type": "code",
   "execution_count": 8,
   "metadata": {
    "colab": {
     "base_uri": "https://localhost:8080/"
    },
    "id": "-7b3sl1mBUTr",
    "outputId": "bdc831a3-bf6f-4726-d735-99b14f21132a"
   },
   "outputs": [
    {
     "name": "stdout",
     "output_type": "stream",
     "text": [
      "Requirement already satisfied: vaderSentiment in c:\\users\\justi\\anaconda3\\lib\\site-packages (3.3.2)\n",
      "Requirement already satisfied: requests in c:\\users\\justi\\anaconda3\\lib\\site-packages (from vaderSentiment) (2.31.0)\n",
      "Requirement already satisfied: charset-normalizer<4,>=2 in c:\\users\\justi\\anaconda3\\lib\\site-packages (from requests->vaderSentiment) (2.0.4)\n",
      "Requirement already satisfied: idna<4,>=2.5 in c:\\users\\justi\\anaconda3\\lib\\site-packages (from requests->vaderSentiment) (3.4)\n",
      "Requirement already satisfied: urllib3<3,>=1.21.1 in c:\\users\\justi\\anaconda3\\lib\\site-packages (from requests->vaderSentiment) (1.26.16)\n",
      "Requirement already satisfied: certifi>=2017.4.17 in c:\\users\\justi\\anaconda3\\lib\\site-packages (from requests->vaderSentiment) (2023.7.22)\n",
      "Note: you may need to restart the kernel to use updated packages.\n"
     ]
    }
   ],
   "source": [
    " pip install vaderSentiment"
   ]
  },
  {
   "cell_type": "code",
   "execution_count": 9,
   "metadata": {
    "colab": {
     "base_uri": "https://localhost:8080/",
     "height": 423
    },
    "id": "IpSakWKiYDpp",
    "outputId": "6cb0a7f0-65ef-4697-989c-b9b9a2bcc353"
   },
   "outputs": [
    {
     "data": {
      "text/html": [
       "<div>\n",
       "<style scoped>\n",
       "    .dataframe tbody tr th:only-of-type {\n",
       "        vertical-align: middle;\n",
       "    }\n",
       "\n",
       "    .dataframe tbody tr th {\n",
       "        vertical-align: top;\n",
       "    }\n",
       "\n",
       "    .dataframe thead th {\n",
       "        text-align: right;\n",
       "    }\n",
       "</style>\n",
       "<table border=\"1\" class=\"dataframe\">\n",
       "  <thead>\n",
       "    <tr style=\"text-align: right;\">\n",
       "      <th></th>\n",
       "      <th>Apps Package name</th>\n",
       "      <th>Review</th>\n",
       "      <th>Polarity</th>\n",
       "    </tr>\n",
       "  </thead>\n",
       "  <tbody>\n",
       "    <tr>\n",
       "      <th>0</th>\n",
       "      <td>com.xe.currency</td>\n",
       "      <td>using app longkeep good work</td>\n",
       "      <td>{'neg': 0.0, 'neu': 0.58, 'pos': 0.42, 'compou...</td>\n",
       "    </tr>\n",
       "    <tr>\n",
       "      <th>1</th>\n",
       "      <td>com.xe.currency</td>\n",
       "      <td>good</td>\n",
       "      <td>{'neg': 0.0, 'neu': 0.0, 'pos': 1.0, 'compound...</td>\n",
       "    </tr>\n",
       "    <tr>\n",
       "      <th>2</th>\n",
       "      <td>com.xe.currency</td>\n",
       "      <td>like favorite app</td>\n",
       "      <td>{'neg': 0.0, 'neu': 0.154, 'pos': 0.846, 'comp...</td>\n",
       "    </tr>\n",
       "    <tr>\n",
       "      <th>3</th>\n",
       "      <td>com.xe.currency</td>\n",
       "      <td>like app</td>\n",
       "      <td>{'neg': 0.0, 'neu': 0.286, 'pos': 0.714, 'comp...</td>\n",
       "    </tr>\n",
       "    <tr>\n",
       "      <th>4</th>\n",
       "      <td>com.xe.currency</td>\n",
       "      <td>easy use great recommend thanks</td>\n",
       "      <td>{'neg': 0.0, 'neu': 0.075, 'pos': 0.925, 'comp...</td>\n",
       "    </tr>\n",
       "    <tr>\n",
       "      <th>...</th>\n",
       "      <td>...</td>\n",
       "      <td>...</td>\n",
       "      <td>...</td>\n",
       "    </tr>\n",
       "    <tr>\n",
       "      <th>993</th>\n",
       "      <td>com.mezhevikin.converter</td>\n",
       "      <td>good</td>\n",
       "      <td>{'neg': 0.0, 'neu': 0.0, 'pos': 1.0, 'compound...</td>\n",
       "    </tr>\n",
       "    <tr>\n",
       "      <th>994</th>\n",
       "      <td>com.mezhevikin.converter</td>\n",
       "      <td>best app</td>\n",
       "      <td>{'neg': 0.0, 'neu': 0.192, 'pos': 0.808, 'comp...</td>\n",
       "    </tr>\n",
       "    <tr>\n",
       "      <th>995</th>\n",
       "      <td>com.mezhevikin.converter</td>\n",
       "      <td>think app kinda cool</td>\n",
       "      <td>{'neg': 0.0, 'neu': 0.599, 'pos': 0.401, 'comp...</td>\n",
       "    </tr>\n",
       "    <tr>\n",
       "      <th>996</th>\n",
       "      <td>com.mezhevikin.converter</td>\n",
       "      <td>good</td>\n",
       "      <td>{'neg': 0.0, 'neu': 0.0, 'pos': 1.0, 'compound...</td>\n",
       "    </tr>\n",
       "    <tr>\n",
       "      <th>997</th>\n",
       "      <td>com.mezhevikin.converter</td>\n",
       "      <td>luv playing</td>\n",
       "      <td>{'neg': 0.0, 'neu': 0.357, 'pos': 0.643, 'comp...</td>\n",
       "    </tr>\n",
       "  </tbody>\n",
       "</table>\n",
       "<p>998 rows × 3 columns</p>\n",
       "</div>"
      ],
      "text/plain": [
       "            Apps Package name                           Review  \\\n",
       "0             com.xe.currency     using app longkeep good work   \n",
       "1             com.xe.currency                             good   \n",
       "2             com.xe.currency                like favorite app   \n",
       "3             com.xe.currency                         like app   \n",
       "4             com.xe.currency  easy use great recommend thanks   \n",
       "..                        ...                              ...   \n",
       "993  com.mezhevikin.converter                             good   \n",
       "994  com.mezhevikin.converter                         best app   \n",
       "995  com.mezhevikin.converter             think app kinda cool   \n",
       "996  com.mezhevikin.converter                             good   \n",
       "997  com.mezhevikin.converter                      luv playing   \n",
       "\n",
       "                                              Polarity  \n",
       "0    {'neg': 0.0, 'neu': 0.58, 'pos': 0.42, 'compou...  \n",
       "1    {'neg': 0.0, 'neu': 0.0, 'pos': 1.0, 'compound...  \n",
       "2    {'neg': 0.0, 'neu': 0.154, 'pos': 0.846, 'comp...  \n",
       "3    {'neg': 0.0, 'neu': 0.286, 'pos': 0.714, 'comp...  \n",
       "4    {'neg': 0.0, 'neu': 0.075, 'pos': 0.925, 'comp...  \n",
       "..                                                 ...  \n",
       "993  {'neg': 0.0, 'neu': 0.0, 'pos': 1.0, 'compound...  \n",
       "994  {'neg': 0.0, 'neu': 0.192, 'pos': 0.808, 'comp...  \n",
       "995  {'neg': 0.0, 'neu': 0.599, 'pos': 0.401, 'comp...  \n",
       "996  {'neg': 0.0, 'neu': 0.0, 'pos': 1.0, 'compound...  \n",
       "997  {'neg': 0.0, 'neu': 0.357, 'pos': 0.643, 'comp...  \n",
       "\n",
       "[998 rows x 3 columns]"
      ]
     },
     "metadata": {},
     "output_type": "display_data"
    }
   ],
   "source": [
    "from vaderSentiment.vaderSentiment import SentimentIntensityAnalyzer\n",
    "import csv\n",
    "import pandas as pd\n",
    "df = pd.read_csv('preprocessedtext.csv')\n",
    "with open('VaderReviews.csv','w',newline='') as file: # creating the file in write mode\n",
    "  write = csv.writer(file) # variable initialization to write to the file\n",
    "df_vader=[]\n",
    "for Review in df['Review']:\n",
    "  vader=SentimentIntensityAnalyzer().polarity_scores(str(Review))\n",
    "  df_vader.append(vader)\n",
    "\n",
    "df.insert(4,\"Polarity\",df_vader)\n",
    "df_vader= df[['Package name','Review','Polarity']]\n",
    "df_vader.columns=['Apps Package name','Review','Polarity']\n",
    "df_vader.to_csv('VaderReviews.csv', mode='a', index=False, header=True) #creating a csv file for vader sentiment analysis\n",
    "display(df_vader)"
   ]
  },
  {
   "cell_type": "markdown",
   "metadata": {
    "id": "vjAHubEVrxrp"
   },
   "source": [
    "\n",
    "**III. How does the sentiments retrieved by Textblob and Vader compare with each other? How do they compare with the rating of the app? How do you interpret the similarities/differences?**"
   ]
  },
  {
   "cell_type": "markdown",
   "metadata": {
    "id": "TrlSJpXrr8Un"
   },
   "source": [
    "Answer:\n",
    "\n",
    "Textblob retrieves polarity and subjectivity of a text(review). Here we retrieve only the polarity for the project. Polarities are of the range [-1, 1].  Vader uses valence scores to detect the review being positive, negative or nuetral.Compound normalizes the valence scores to the range [-1,1]. Where -1 is the most negative and +1 being the most positive\n",
    "\n",
    "A similarity in TextBlob and Vader are both uses numerical values to express the sentiments of the text(review).\n",
    "\n",
    "The notable differnce between the two tools are, the way the analysis is done. Textblob outputs a value that is in the range of [-1 , 1] and user has to interpret the tone (sentiments) of the review.\n",
    "\n",
    "Whereas in Vader, the tone of the review is divided into negative, neutral and positive. Each category is given values, hence the tone of the review can be well defined and intepreted. Compound normalizes the each categories and gives an better sentiment analysis.\n"
   ]
  },
  {
   "cell_type": "markdown",
   "metadata": {
    "id": "bR8k0iyqEyZM"
   },
   "source": [
    " **IV. We wish to evaluate the sentiment of some review using foundation models (here GPT-3).**\n",
    "\n",
    "**a) What prompt would you use?**\n",
    "\n",
    "**b) How does the sentiment returned by GPT model compares with Textblob results? Create tables and compare.**\n",
    "\n",
    "**c) How does the sentiment returned by GPT model compares with Vader results? Create tables and compare.**"
   ]
  },
  {
   "cell_type": "markdown",
   "metadata": {
    "id": "DpjVA1CFSn1A"
   },
   "source": [
    "a) Prompts used:\n",
    "\n",
    "    Conduct textblob sentiment analysis on the review\n",
    "\n",
    "    Conduct Vader sentiment analysis on the review\n",
    "\n",
    "b)\n",
    "\n",
    "```\n",
    "Review:                Sentiment Analysis from GPT:           Sentiment analysis from Textblob:\n",
    "1) app perfect                     positive                    1.0 -> high positive\n",
    "2) horrible blocked card           negative (-0.6)            -1.0 -> high negative\n",
    "transaction opt bank\n",
    "transfer asking\n",
    "money send company bank\n",
    "3) keep logging notification       negative(-0.35)             0.09 -> positive\n",
    "good deal useless app\n",
    "\n",
    "```\n",
    "c)\n",
    "```\n",
    "Review:                Sentiment Analysis from GPT:           Sentiment analysis from vader:\n",
    "\n",
    "1)horrible blocked card    Sentiment Scores: {'neg': 0.448,    {'neg':0.359, 'neu': 0.641, 'pos': 0.0, 'compound': -0.6808\"}\n",
    "                                                                 \n",
    "                           'neu': 0.552, 'pos': 0.0,\n",
    "                           'compound': -0.8225}\n",
    "                           Sentiment: Negative                  Sentiment:Negative\n",
    "transaction opt bank\n",
    "transfer asking money\n",
    "send company bank      \n",
    "\n",
    "2) great service          Sentiment Scores: {'neg': 0.0,        {'neg': 0.0, 'neu': 0.196, 'pos': 0.804, 'compound': 0.6249}                                       \n",
    "                          'neu': 0.192, 'pos': 0.808,\n",
    "                          'compound': 0.6249}\n",
    "                          Sentiment: Positive                 Sentiment: Positive\n",
    "```\n",
    "\n",
    "\n",
    "  "
   ]
  },
  {
   "cell_type": "markdown",
   "metadata": {
    "id": "xmfWeyTXPZBM"
   },
   "source": [
    "## **TASK 4: TOPIC MODELING Using LDA**"
   ]
  },
  {
   "cell_type": "markdown",
   "metadata": {
    "id": "1hIKGU60PgLT"
   },
   "source": [
    "**I. Across all the reviews of all apps you have (SUD + similar/competitor), extract minimum of 15 LDA topics each being described by at least 7 Words.**"
   ]
  },
  {
   "cell_type": "code",
   "execution_count": 10,
   "metadata": {},
   "outputs": [
    {
     "name": "stdout",
     "output_type": "stream",
     "text": [
      "Requirement already satisfied: gensim in c:\\users\\justi\\anaconda3\\lib\\site-packages (4.3.0)\n",
      "Requirement already satisfied: numpy>=1.18.5 in c:\\users\\justi\\anaconda3\\lib\\site-packages (from gensim) (1.24.3)\n",
      "Requirement already satisfied: scipy>=1.7.0 in c:\\users\\justi\\anaconda3\\lib\\site-packages (from gensim) (1.11.1)\n",
      "Requirement already satisfied: smart-open>=1.8.1 in c:\\users\\justi\\anaconda3\\lib\\site-packages (from gensim) (5.2.1)\n",
      "Collecting FuzzyTM>=0.4.0 (from gensim)\n",
      "  Obtaining dependency information for FuzzyTM>=0.4.0 from https://files.pythonhosted.org/packages/06/4d/8d2dd5d81afdea2aa790860d5c7e12f80154923ba827e3fa36759f0bf2cd/FuzzyTM-2.0.5-py3-none-any.whl.metadata\n",
      "  Downloading FuzzyTM-2.0.5-py3-none-any.whl.metadata (7.8 kB)\n",
      "Requirement already satisfied: pandas in c:\\users\\justi\\anaconda3\\lib\\site-packages (from FuzzyTM>=0.4.0->gensim) (2.0.3)\n",
      "Collecting pyfume (from FuzzyTM>=0.4.0->gensim)\n",
      "  Obtaining dependency information for pyfume from https://files.pythonhosted.org/packages/f0/fe/b899a3d9a18c9a44a35155c79a4c152cb85990ea38ce6ab7ed73e5caa1b9/pyFUME-0.3.1-py3-none-any.whl.metadata\n",
      "  Downloading pyFUME-0.3.1-py3-none-any.whl.metadata (9.7 kB)\n",
      "Requirement already satisfied: python-dateutil>=2.8.2 in c:\\users\\justi\\anaconda3\\lib\\site-packages (from pandas->FuzzyTM>=0.4.0->gensim) (2.8.2)\n",
      "Requirement already satisfied: pytz>=2020.1 in c:\\users\\justi\\anaconda3\\lib\\site-packages (from pandas->FuzzyTM>=0.4.0->gensim) (2023.3.post1)\n",
      "Requirement already satisfied: tzdata>=2022.1 in c:\\users\\justi\\anaconda3\\lib\\site-packages (from pandas->FuzzyTM>=0.4.0->gensim) (2023.3)\n",
      "Collecting simpful (from pyfume->FuzzyTM>=0.4.0->gensim)\n",
      "  Obtaining dependency information for simpful from https://files.pythonhosted.org/packages/9d/0e/aebc2fb0b0f481994179b2ee2b8e6bbf0894d971594688c018375e7076ea/simpful-2.12.0-py3-none-any.whl.metadata\n",
      "  Downloading simpful-2.12.0-py3-none-any.whl.metadata (4.8 kB)\n",
      "Collecting fst-pso (from pyfume->FuzzyTM>=0.4.0->gensim)\n",
      "  Downloading fst-pso-1.8.1.tar.gz (18 kB)\n",
      "  Preparing metadata (setup.py): started\n",
      "  Preparing metadata (setup.py): finished with status 'done'\n",
      "Requirement already satisfied: typing-extensions in c:\\users\\justi\\anaconda3\\lib\\site-packages (from pyfume->FuzzyTM>=0.4.0->gensim) (4.7.1)\n",
      "Requirement already satisfied: six>=1.5 in c:\\users\\justi\\anaconda3\\lib\\site-packages (from python-dateutil>=2.8.2->pandas->FuzzyTM>=0.4.0->gensim) (1.16.0)\n",
      "Collecting miniful (from fst-pso->pyfume->FuzzyTM>=0.4.0->gensim)\n",
      "  Downloading miniful-0.0.6.tar.gz (2.8 kB)\n",
      "  Preparing metadata (setup.py): started\n",
      "  Preparing metadata (setup.py): finished with status 'done'\n",
      "Downloading FuzzyTM-2.0.5-py3-none-any.whl (29 kB)\n",
      "Downloading pyFUME-0.3.1-py3-none-any.whl (59 kB)\n",
      "   ---------------------------------------- 0.0/59.6 kB ? eta -:--:--\n",
      "   ---------------------------------------- 59.6/59.6 kB 1.5 MB/s eta 0:00:00\n",
      "Downloading simpful-2.12.0-py3-none-any.whl (24 kB)\n",
      "Building wheels for collected packages: fst-pso, miniful\n",
      "  Building wheel for fst-pso (setup.py): started\n",
      "  Building wheel for fst-pso (setup.py): finished with status 'done'\n",
      "  Created wheel for fst-pso: filename=fst_pso-1.8.1-py3-none-any.whl size=20448 sha256=648fda1bd375e76b5d045d4da144047b33eb96dda140122877c2fc645571473e\n",
      "  Stored in directory: c:\\users\\justi\\appdata\\local\\pip\\cache\\wheels\\69\\f5\\e5\\18ad53fe1ed6b2af9fad05ec052e4acbac8e92441df44bad2e\n",
      "  Building wheel for miniful (setup.py): started\n",
      "  Building wheel for miniful (setup.py): finished with status 'done'\n",
      "  Created wheel for miniful: filename=miniful-0.0.6-py3-none-any.whl size=3522 sha256=a617806ed932d7ef625a44f15e3a5724bf88f71139731b2a8461d2c44fee3e0c\n",
      "  Stored in directory: c:\\users\\justi\\appdata\\local\\pip\\cache\\wheels\\9d\\ff\\2f\\afe4cd56f47de147407705626517d68bea0f3b74eb1fb168e6\n",
      "Successfully built fst-pso miniful\n",
      "Installing collected packages: simpful, miniful, fst-pso, pyfume, FuzzyTM\n",
      "Successfully installed FuzzyTM-2.0.5 fst-pso-1.8.1 miniful-0.0.6 pyfume-0.3.1 simpful-2.12.0\n"
     ]
    }
   ],
   "source": [
    "!pip install gensim"
   ]
  },
  {
   "cell_type": "code",
   "execution_count": 11,
   "metadata": {
    "colab": {
     "base_uri": "https://localhost:8080/"
    },
    "id": "ft_zJiewPr4O",
    "outputId": "905424b3-c34c-4284-a20e-cda3356df332"
   },
   "outputs": [
    {
     "data": {
      "text/plain": [
       "[(0,\n",
       "  '0.029*\"easy\" + 0.029*\"app\" + 0.028*\"use\" + 0.028*\"helpful\" + 0.025*\"useful\" + 0.023*\"really\" + 0.019*\"work\" + 0.016*\"superb\" + 0.014*\"great\" + 0.013*\"like\"'),\n",
       " (1,\n",
       "  '0.140*\"excellent\" + 0.057*\"nice\" + 0.028*\"app\" + 0.013*\"like\" + 0.013*\"good\" + 0.013*\"amazing\" + 0.011*\"ad\" + 0.010*\"rate\" + 0.010*\"application\" + 0.008*\"exchange\"'),\n",
       " (2,\n",
       "  '0.115*\"good\" + 0.044*\"like\" + 0.021*\"app\" + 0.014*\"wonderful\" + 0.013*\"friendly\" + 0.012*\"user\" + 0.012*\"amazing\" + 0.012*\"luck\" + 0.011*\"u\" + 0.010*\"quick\"'),\n",
       " (3,\n",
       "  '0.025*\"love\" + 0.024*\"use\" + 0.021*\"easy\" + 0.015*\"app\" + 0.014*\"work\" + 0.012*\"super\" + 0.012*\"perfect\" + 0.012*\"useful\" + 0.011*\"good\" + 0.011*\"accurate\"'),\n",
       " (4,\n",
       "  '0.195*\"nice\" + 0.041*\"app\" + 0.018*\"thanks\" + 0.015*\"always\" + 0.011*\"bad\" + 0.011*\"amazing\" + 0.011*\"convenient\" + 0.010*\"like\" + 0.009*\"updated\" + 0.009*\"best\"'),\n",
       " (5,\n",
       "  '0.245*\"good\" + 0.040*\"app\" + 0.024*\"ok\" + 0.020*\"use\" + 0.017*\"easy\" + 0.017*\"accurate\" + 0.010*\"quick\" + 0.009*\"every\" + 0.008*\"quite\" + 0.007*\"currency\"'),\n",
       " (6,\n",
       "  '0.030*\"good\" + 0.016*\"app\" + 0.014*\"conversion\" + 0.014*\"use\" + 0.011*\"thank\" + 0.011*\"accurate\" + 0.011*\"best\" + 0.011*\"ever\" + 0.010*\"love\" + 0.010*\"easy\"'),\n",
       " (7,\n",
       "  '0.168*\"good\" + 0.049*\"awesome\" + 0.016*\"accurate\" + 0.015*\"best\" + 0.014*\"currency\" + 0.013*\"nice\" + 0.012*\"money\" + 0.012*\"app\" + 0.010*\"ok\" + 0.008*\"would\"'),\n",
       " (8,\n",
       "  '0.018*\"super\" + 0.017*\"fast\" + 0.012*\"service\" + 0.011*\"need\" + 0.011*\"use\" + 0.009*\"experience\" + 0.009*\"thanks\" + 0.009*\"done\" + 0.009*\"review\" + 0.009*\"coool\"'),\n",
       " (9,\n",
       "  '0.205*\"good\" + 0.066*\"app\" + 0.022*\"helpful\" + 0.018*\"great\" + 0.018*\"far\" + 0.010*\"service\" + 0.010*\"convenient\" + 0.009*\"still\" + 0.007*\"popping\" + 0.006*\"using\"'),\n",
       " (10,\n",
       "  '0.078*\"great\" + 0.033*\"love\" + 0.033*\"good\" + 0.030*\"app\" + 0.023*\"best\" + 0.018*\"easy\" + 0.018*\"application\" + 0.014*\"need\" + 0.014*\"use\" + 0.012*\"one\"'),\n",
       " (11,\n",
       "  '0.031*\"excellent\" + 0.024*\"app\" + 0.023*\"best\" + 0.016*\"like\" + 0.012*\"make\" + 0.012*\"ok\" + 0.011*\"service\" + 0.011*\"nice\" + 0.010*\"love\" + 0.010*\"everything\"'),\n",
       " (12,\n",
       "  '0.036*\"helpful\" + 0.030*\"app\" + 0.030*\"great\" + 0.021*\"good\" + 0.020*\"best\" + 0.012*\"ever\" + 0.011*\"time\" + 0.010*\"ya\" + 0.010*\"conversion\" + 0.010*\"wow\"'),\n",
       " (13,\n",
       "  '0.110*\"great\" + 0.035*\"easy\" + 0.035*\"use\" + 0.022*\"app\" + 0.014*\"rate\" + 0.013*\"service\" + 0.011*\"currency\" + 0.011*\"brilliant\" + 0.008*\"best\" + 0.008*\"using\"'),\n",
       " (14,\n",
       "  '0.055*\"perfect\" + 0.029*\"best\" + 0.016*\"super\" + 0.014*\"easy\" + 0.013*\"reliable\" + 0.013*\"accurate\" + 0.012*\"app\" + 0.012*\"use\" + 0.009*\"amazing\" + 0.008*\"money\"')]"
      ]
     },
     "execution_count": 11,
     "metadata": {},
     "output_type": "execute_result"
    }
   ],
   "source": [
    "from gensim import corpora\n",
    "from gensim import models\n",
    "import pandas as pd\n",
    "import pprint\n",
    "df=pd.read_csv('preprocessedtext.csv')\n",
    "df.dropna(subset=['Review'], inplace=True) # drops reviews that doesnt have any values (na)\n",
    "review=df['Review'].tolist()\n",
    "tokenized_reviews = [review.split() for review in review]\n",
    "dictionary = corpora.Dictionary(tokenized_reviews) # creates a frequency count of words from the dictionary\n",
    "#pprint.pprint(dictionary.token2id) # Mapping ID's to each words\n",
    "bow_reviews = [dictionary.doc2bow(review.split()) for review in df['Review']] #converting the reviews to list of vectors (bag of word model)\n",
    "tfidf = models.TfidfModel(bow_reviews) #initializing a model\n",
    "tfidf_reviews= tfidf[bow_reviews]# here we are able to convert the bag of words model to a vector space where frequency count (TfId) weights the review based on its occurances\n",
    "lda_model = models.LdaModel(tfidf_reviews, id2word=dictionary, num_topics=15) #extracting 15 topics\n",
    "lda_model.print_topics()"
   ]
  },
  {
   "cell_type": "markdown",
   "metadata": {
    "id": "ODJmZqRw9zyN"
   },
   "source": [
    "**II. How does these review topics (i.e. summarized user feedback) relate to the software features (functionalities) you extracted from app description in your assignment?**"
   ]
  },
  {
   "cell_type": "markdown",
   "metadata": {
    "id": "tsznKQCSCgDe"
   },
   "source": [
    "Answer:\n",
    "\n",
    "The summarized user feedbacks (review topics) highlights on the reliablity, accuracy, better currency rates , app usability (such as free, user friendly, ease of use etc.)\n",
    "\n",
    "The app functionalities highlights on the currencies they offer, accurate and better rates they provide to users. The app also has a simple UI\n",
    "\n",
    "Therefore the topics extracted are relatable to the functionalities that are provided in the app description."
   ]
  },
  {
   "cell_type": "markdown",
   "metadata": {
    "id": "7zuW6KJCN7ZT"
   },
   "source": [
    "**III. How does the topics compare to the topics extracted from reviews of each app (SUD + similar/competitor which had review)?**"
   ]
  },
  {
   "cell_type": "markdown",
   "metadata": {
    "id": "SDFvHdCzN-_C"
   },
   "source": [
    "Answer:\n",
    "\n",
    "*My assigned app (Currencies: Exchange Rate Calculator) doesnt have any reviews.\n",
    "\n",
    "The topics generated from the competitor and similar apps are similar as the apps provide the same functionalities. All the apps provide better currency rates, reliable and accurate currency information. All the apps are better in performance which can be analyzed from the topics generated .\n",
    "\n",
    "Hence topics extracted from the competitor and similar apps share the similar feedbacks."
   ]
  },
  {
   "cell_type": "markdown",
   "metadata": {
    "id": "DE7DxyzDlY8O"
   },
   "source": [
    "**IV. We would need to trace each review to a topic for better understanding the details of the user feedback. Retrieve the topic for each review of your ASSIGNED APP. This should be done by finding the topic that has the highest percentage contribution in that Review.**\n",
    "\n",
    "**V. Specify a list of 10 Reviews that you believe developers should take care of with high priority. Discuss your logic for this selection.**"
   ]
  },
  {
   "cell_type": "markdown",
   "metadata": {
    "id": "K2y9uzHZmF3m"
   },
   "source": [
    "***Since my assigned app doesnt have any reviews. As per instructed I have selected the app with highest reviews \"Currency converter offline\"***"
   ]
  },
  {
   "cell_type": "markdown",
   "metadata": {
    "id": "gQ0IQeMERxtl"
   },
   "source": [
    "Answer:\n",
    "\n",
    "We can prioritize the reviews based on the \"high dominant topic\":\n",
    "\n",
    "1)\"too much adds\"\n",
    "\n",
    "2) \"Not accurate with the current market rate and too many ads playing. I understand playing an ad if you've been on the app for more than a few seconds but I get ads as soon as I open. I'd rather just google the conversion\"\n",
    "\n",
    "3)\"this is the best app it gives me correct exchange rate\"\n",
    "\n",
    "4) \"many ads\"\n",
    "\n",
    "5) \"Unnecessary Virus Advertisment\"\n",
    "\n",
    "6) \"The application works amazingly. but try to up dates some other countries currency exchange. even though I gave it 5 star but try to update some countries\"\n",
    "\n",
    "7) \"Nice, try to be updated with the new rates\"\n",
    "\n",
    "8) \"IT WAS GOOD APP BACK IN THE DAYS BUT NOW SUBSCRIPTION PAYMENT IN THE IOS MARKET MAKE FUNNY AND DIFFICULT TO MAINTAIN SUPPORT BECAUSE Annual Payment is absurd but we have better apps also Wise and Other Apps have built in currency support \"\n",
    "\n",
    "9)\"nice it does the job efficiently. only very few ads, keep it up!\"\n",
    "\n",
    "10)\"Nice apps for calculate currency in off line in own rate. It may be better by adding multiple currency option\"\n",
    "\n",
    "Developers can focus on the above reviews for references, each review mentioned at the top are of dominant topic value. They are genuine customer feedbacks that expect better results from the app.  \n"
   ]
  },
  {
   "cell_type": "markdown",
   "metadata": {
    "id": "a203s4ezRop-"
   },
   "source": []
  },
  {
   "cell_type": "code",
   "execution_count": 12,
   "metadata": {
    "colab": {
     "base_uri": "https://localhost:8080/",
     "height": 971
    },
    "id": "ZlqBRJFyVZmo",
    "outputId": "f963ad1e-e555-4aba-9762-c31c63b79285"
   },
   "outputs": [
    {
     "data": {
      "text/html": [
       "<div>\n",
       "<style scoped>\n",
       "    .dataframe tbody tr th:only-of-type {\n",
       "        vertical-align: middle;\n",
       "    }\n",
       "\n",
       "    .dataframe tbody tr th {\n",
       "        vertical-align: top;\n",
       "    }\n",
       "\n",
       "    .dataframe thead th {\n",
       "        text-align: right;\n",
       "    }\n",
       "</style>\n",
       "<table border=\"1\" class=\"dataframe\">\n",
       "  <thead>\n",
       "    <tr style=\"text-align: right;\">\n",
       "      <th></th>\n",
       "      <th>Package name</th>\n",
       "      <th>Review</th>\n",
       "      <th>Tockenized reviews</th>\n",
       "      <th>Dominant Topic</th>\n",
       "      <th>Percentage contribution</th>\n",
       "    </tr>\n",
       "  </thead>\n",
       "  <tbody>\n",
       "    <tr>\n",
       "      <th>810</th>\n",
       "      <td>com.mezhevikin.converter</td>\n",
       "      <td>five one new update forcing agree sharing pers...</td>\n",
       "      <td>[(0, 2), (12, 1), (20, 1), (21, 1), (22, 1), (...</td>\n",
       "      <td>4</td>\n",
       "      <td>0.971711</td>\n",
       "    </tr>\n",
       "    <tr>\n",
       "      <th>954</th>\n",
       "      <td>com.mezhevikin.converter</td>\n",
       "      <td>good app back day subscription payment io mark...</td>\n",
       "      <td>[(0, 1), (3, 1), (12, 1), (22, 1), (29, 1), (4...</td>\n",
       "      <td>7</td>\n",
       "      <td>0.962659</td>\n",
       "    </tr>\n",
       "    <tr>\n",
       "      <th>949</th>\n",
       "      <td>com.mezhevikin.converter</td>\n",
       "      <td>accurate current market rate many ad playing u...</td>\n",
       "      <td>[(0, 1), (18, 1), (20, 3), (52, 1), (89, 1), (...</td>\n",
       "      <td>10</td>\n",
       "      <td>0.924797</td>\n",
       "    </tr>\n",
       "    <tr>\n",
       "      <th>972</th>\n",
       "      <td>com.mezhevikin.converter</td>\n",
       "      <td>app give account receive foreign currency conv...</td>\n",
       "      <td>[(0, 1), (12, 2), (131, 1), (168, 1), (169, 1)...</td>\n",
       "      <td>14</td>\n",
       "      <td>0.915148</td>\n",
       "    </tr>\n",
       "    <tr>\n",
       "      <th>872</th>\n",
       "      <td>com.mezhevikin.converter</td>\n",
       "      <td>new theme good previous update better see curr...</td>\n",
       "      <td>[(3, 1), (12, 1), (30, 1), (31, 1), (44, 1), (...</td>\n",
       "      <td>10</td>\n",
       "      <td>0.906663</td>\n",
       "    </tr>\n",
       "    <tr>\n",
       "      <th>...</th>\n",
       "      <td>...</td>\n",
       "      <td>...</td>\n",
       "      <td>...</td>\n",
       "      <td>...</td>\n",
       "      <td>...</td>\n",
       "    </tr>\n",
       "    <tr>\n",
       "      <th>875</th>\n",
       "      <td>com.mezhevikin.converter</td>\n",
       "      <td>best looking</td>\n",
       "      <td>[(49, 1), (81, 1)]</td>\n",
       "      <td>11</td>\n",
       "      <td>0.401291</td>\n",
       "    </tr>\n",
       "    <tr>\n",
       "      <th>983</th>\n",
       "      <td>com.mezhevikin.converter</td>\n",
       "      <td>app superb</td>\n",
       "      <td>[(0, 1), (176, 1)]</td>\n",
       "      <td>2</td>\n",
       "      <td>0.394553</td>\n",
       "    </tr>\n",
       "    <tr>\n",
       "      <th>877</th>\n",
       "      <td>com.mezhevikin.converter</td>\n",
       "      <td>happy app</td>\n",
       "      <td>[(0, 1), (83, 1)]</td>\n",
       "      <td>8</td>\n",
       "      <td>0.363342</td>\n",
       "    </tr>\n",
       "    <tr>\n",
       "      <th>907</th>\n",
       "      <td>com.mezhevikin.converter</td>\n",
       "      <td>every good</td>\n",
       "      <td>[(3, 1), (110, 1)]</td>\n",
       "      <td>1</td>\n",
       "      <td>0.356211</td>\n",
       "    </tr>\n",
       "    <tr>\n",
       "      <th>906</th>\n",
       "      <td>com.mezhevikin.converter</td>\n",
       "      <td>good</td>\n",
       "      <td>[(3, 1)]</td>\n",
       "      <td>14</td>\n",
       "      <td>0.312382</td>\n",
       "    </tr>\n",
       "  </tbody>\n",
       "</table>\n",
       "<p>192 rows × 5 columns</p>\n",
       "</div>"
      ],
      "text/plain": [
       "                 Package name  \\\n",
       "810  com.mezhevikin.converter   \n",
       "954  com.mezhevikin.converter   \n",
       "949  com.mezhevikin.converter   \n",
       "972  com.mezhevikin.converter   \n",
       "872  com.mezhevikin.converter   \n",
       "..                        ...   \n",
       "875  com.mezhevikin.converter   \n",
       "983  com.mezhevikin.converter   \n",
       "877  com.mezhevikin.converter   \n",
       "907  com.mezhevikin.converter   \n",
       "906  com.mezhevikin.converter   \n",
       "\n",
       "                                                Review  \\\n",
       "810  five one new update forcing agree sharing pers...   \n",
       "954  good app back day subscription payment io mark...   \n",
       "949  accurate current market rate many ad playing u...   \n",
       "972  app give account receive foreign currency conv...   \n",
       "872  new theme good previous update better see curr...   \n",
       "..                                                 ...   \n",
       "875                                       best looking   \n",
       "983                                         app superb   \n",
       "877                                          happy app   \n",
       "907                                         every good   \n",
       "906                                               good   \n",
       "\n",
       "                                    Tockenized reviews  Dominant Topic  \\\n",
       "810  [(0, 2), (12, 1), (20, 1), (21, 1), (22, 1), (...               4   \n",
       "954  [(0, 1), (3, 1), (12, 1), (22, 1), (29, 1), (4...               7   \n",
       "949  [(0, 1), (18, 1), (20, 3), (52, 1), (89, 1), (...              10   \n",
       "972  [(0, 1), (12, 2), (131, 1), (168, 1), (169, 1)...              14   \n",
       "872  [(3, 1), (12, 1), (30, 1), (31, 1), (44, 1), (...              10   \n",
       "..                                                 ...             ...   \n",
       "875                                 [(49, 1), (81, 1)]              11   \n",
       "983                                 [(0, 1), (176, 1)]               2   \n",
       "877                                  [(0, 1), (83, 1)]               8   \n",
       "907                                 [(3, 1), (110, 1)]               1   \n",
       "906                                           [(3, 1)]              14   \n",
       "\n",
       "     Percentage contribution  \n",
       "810                 0.971711  \n",
       "954                 0.962659  \n",
       "949                 0.924797  \n",
       "972                 0.915148  \n",
       "872                 0.906663  \n",
       "..                       ...  \n",
       "875                 0.401291  \n",
       "983                 0.394553  \n",
       "877                 0.363342  \n",
       "907                 0.356211  \n",
       "906                 0.312382  \n",
       "\n",
       "[192 rows x 5 columns]"
      ]
     },
     "metadata": {},
     "output_type": "display_data"
    },
    {
     "data": {
      "text/html": [
       "<div>\n",
       "<style scoped>\n",
       "    .dataframe tbody tr th:only-of-type {\n",
       "        vertical-align: middle;\n",
       "    }\n",
       "\n",
       "    .dataframe tbody tr th {\n",
       "        vertical-align: top;\n",
       "    }\n",
       "\n",
       "    .dataframe thead th {\n",
       "        text-align: right;\n",
       "    }\n",
       "</style>\n",
       "<table border=\"1\" class=\"dataframe\">\n",
       "  <thead>\n",
       "    <tr style=\"text-align: right;\">\n",
       "      <th></th>\n",
       "      <th>Review</th>\n",
       "      <th>Dominant Topic</th>\n",
       "    </tr>\n",
       "  </thead>\n",
       "  <tbody>\n",
       "    <tr>\n",
       "      <th>913</th>\n",
       "      <td>good application</td>\n",
       "      <td>14</td>\n",
       "    </tr>\n",
       "    <tr>\n",
       "      <th>951</th>\n",
       "      <td>good</td>\n",
       "      <td>14</td>\n",
       "    </tr>\n",
       "    <tr>\n",
       "      <th>857</th>\n",
       "      <td>good application</td>\n",
       "      <td>14</td>\n",
       "    </tr>\n",
       "    <tr>\n",
       "      <th>884</th>\n",
       "      <td>good luck</td>\n",
       "      <td>14</td>\n",
       "    </tr>\n",
       "    <tr>\n",
       "      <th>836</th>\n",
       "      <td>senang digunakan</td>\n",
       "      <td>14</td>\n",
       "    </tr>\n",
       "    <tr>\n",
       "      <th>...</th>\n",
       "      <td>...</td>\n",
       "      <td>...</td>\n",
       "    </tr>\n",
       "    <tr>\n",
       "      <th>989</th>\n",
       "      <td>abdulai</td>\n",
       "      <td>1</td>\n",
       "    </tr>\n",
       "    <tr>\n",
       "      <th>978</th>\n",
       "      <td>smart application</td>\n",
       "      <td>0</td>\n",
       "    </tr>\n",
       "    <tr>\n",
       "      <th>929</th>\n",
       "      <td>useful simple interface</td>\n",
       "      <td>0</td>\n",
       "    </tr>\n",
       "    <tr>\n",
       "      <th>912</th>\n",
       "      <td>good one easier rest</td>\n",
       "      <td>0</td>\n",
       "    </tr>\n",
       "    <tr>\n",
       "      <th>959</th>\n",
       "      <td>awesome</td>\n",
       "      <td>0</td>\n",
       "    </tr>\n",
       "  </tbody>\n",
       "</table>\n",
       "<p>192 rows × 2 columns</p>\n",
       "</div>"
      ],
      "text/plain": [
       "                      Review  Dominant Topic\n",
       "913         good application              14\n",
       "951                     good              14\n",
       "857         good application              14\n",
       "884                good luck              14\n",
       "836         senang digunakan              14\n",
       "..                       ...             ...\n",
       "989                  abdulai               1\n",
       "978        smart application               0\n",
       "929  useful simple interface               0\n",
       "912     good one easier rest               0\n",
       "959                  awesome               0\n",
       "\n",
       "[192 rows x 2 columns]"
      ]
     },
     "metadata": {},
     "output_type": "display_data"
    }
   ],
   "source": [
    "import nltk\n",
    "import pandas as pd\n",
    "from gensim import corpora\n",
    "from gensim import models\n",
    "from gensim.models import LdaModel\n",
    "# Load the preprocessed text data\n",
    "df = pd.read_csv('preprocessedtext.csv')\n",
    "df.dropna(subset=['Review'], inplace=True) # drops reviews that doesnt have any values (na)\n",
    "df_req_app=pd.DataFrame()\n",
    "df_req_app=df[df['Package name'] == 'com.mezhevikin.converter'] # since my SUD doesnt have any reviews. Selecting the app that has highest reviews\n",
    "tokenized_reviews = [review.split() for review in df_req_app['Review']]\n",
    "dictionary = corpora.Dictionary(tokenized_reviews)  # creates a frequency count of words from the dictionary\n",
    "bow_reviews = [dictionary.doc2bow(review) for review in tokenized_reviews]  #converting the reviews to list of vectors (bag of word model)\n",
    "tfidf = models.TfidfModel(bow_reviews)  #initializing a model\n",
    "tfidf_reviews = tfidf[bow_reviews] # here we are able to convert the bag of words model to a vector space where frequency count (TfId) weights the review based on its occurances\n",
    "lda_model = models.LdaModel(tfidf_reviews, id2word=dictionary, num_topics=15) #creating a LDA model\n",
    "dominant_topics = []\n",
    "percentage=[]\n",
    "for review_bow in bow_reviews:\n",
    "    topics = lda_model.get_document_topics(review_bow) #iterating through each review\n",
    "    dominant_topic = sorted(topics, key=lambda x: x[1],reverse=True)[0] #sorting the topics according to the contribution\n",
    "    dominant_topics.append(dominant_topic[0]) #appending the topic\n",
    "    percentage.append(dominant_topic[1])# appending the percentage contribution\n",
    "df_req_app.insert(3,'Dominant Topic',dominant_topics)\n",
    "df_req_app.insert(4,'Tockenized reviews',bow_reviews)\n",
    "df_req_app.insert(5,'Percentage contribution',percentage)\n",
    "# Displaying based on the highest percentage contribution in that review\n",
    "display(df_req_app[['Package name','Review','Tockenized reviews' ,'Dominant Topic','Percentage contribution']].sort_values(by='Percentage contribution',ascending=False))\n",
    "# Displaying reviews based on high dominant topic value to know more about feedbacks (for TASK 4, V part)\n",
    "high_priority_reviews=df_req_app\n",
    "high_priority_reviews=df_req_app.sort_values(by='Dominant Topic',ascending=False)\n",
    "display(high_priority_reviews[['Review','Dominant Topic']])"
   ]
  }
 ],
 "metadata": {
  "colab": {
   "provenance": []
  },
  "kernelspec": {
   "display_name": "Python 3 (ipykernel)",
   "language": "python",
   "name": "python3"
  },
  "language_info": {
   "codemirror_mode": {
    "name": "ipython",
    "version": 3
   },
   "file_extension": ".py",
   "mimetype": "text/x-python",
   "name": "python",
   "nbconvert_exporter": "python",
   "pygments_lexer": "ipython3",
   "version": "3.11.5"
  }
 },
 "nbformat": 4,
 "nbformat_minor": 4
}
